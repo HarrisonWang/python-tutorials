{
 "cells": [
  {
   "cell_type": "markdown",
   "id": "511c78e3",
   "metadata": {},
   "source": [
    "# Python 基础\n",
    "\n",
    "## 基本数据结构\n",
    "\n",
    "1. 列表\n",
    "2. 元组\n",
    "3. 字典\n",
    "4. 集合\n",
    "5. 字符串\n",
    "6. 栈\n",
    "7. 队列\n",
    "8. 堆\n",
    "9. 树\n",
    "10. 图"
   ]
  },
  {
   "cell_type": "markdown",
   "id": "d24a9181",
   "metadata": {},
   "source": [
    "### 列表（list）\n",
    "\n",
    "list 是一个可以放置任意数据类型的有序集合。**列表是动态的**，长度大小不固定，可以随意地增加、删减或者改变元素（mutable）。\n",
    "\n",
    "Python 也支持对列表进行切片。以下是一个同时包含 int 和 string 类型的元素列表："
   ]
  },
  {
   "cell_type": "code",
   "execution_count": 81,
   "id": "3dde0f9d",
   "metadata": {
    "ExecuteTime": {
     "end_time": "2024-01-22T07:19:01.932388Z",
     "start_time": "2024-01-22T07:19:01.926938Z"
    }
   },
   "outputs": [
    {
     "data": {
      "text/plain": [
       "[1, 2, 'Hello', 'World']"
      ]
     },
     "execution_count": 81,
     "metadata": {},
     "output_type": "execute_result"
    }
   ],
   "source": [
    "l = [1, 2, 'Hello', 'World']\n",
    "l"
   ]
  },
  {
   "cell_type": "markdown",
   "id": "8a26f8dd",
   "metadata": {
    "heading_collapsed": true
   },
   "source": [
    "#### 索引操作\n",
    "\n",
    "Python 中的索引从 0 开始， `l[0]` 表示访问列表的第 1 个元素："
   ]
  },
  {
   "cell_type": "code",
   "execution_count": 32,
   "id": "ce59534d",
   "metadata": {
    "hidden": true
   },
   "outputs": [
    {
     "data": {
      "text/plain": [
       "1"
      ]
     },
     "execution_count": 32,
     "metadata": {},
     "output_type": "execute_result"
    }
   ],
   "source": [
    "l[0]"
   ]
  },
  {
   "cell_type": "markdown",
   "id": "34c4ebd1",
   "metadata": {
    "hidden": true
   },
   "source": [
    "索引 -1 表示最后 1 个元素："
   ]
  },
  {
   "cell_type": "code",
   "execution_count": 33,
   "id": "6e01dccf",
   "metadata": {
    "hidden": true
   },
   "outputs": [
    {
     "data": {
      "text/plain": [
       "'World'"
      ]
     },
     "execution_count": 33,
     "metadata": {},
     "output_type": "execute_result"
    }
   ],
   "source": [
    "l[-1]"
   ]
  },
  {
   "cell_type": "markdown",
   "id": "494b1ae6",
   "metadata": {
    "hidden": true
   },
   "source": [
    "索引 -2 表示倒数第 2 个元素："
   ]
  },
  {
   "cell_type": "code",
   "execution_count": 34,
   "id": "e48c5d89",
   "metadata": {
    "hidden": true
   },
   "outputs": [
    {
     "data": {
      "text/plain": [
       "'Hello'"
      ]
     },
     "execution_count": 34,
     "metadata": {},
     "output_type": "execute_result"
    }
   ],
   "source": [
    "l[-2]"
   ]
  },
  {
   "cell_type": "markdown",
   "id": "1b8f4a72",
   "metadata": {
    "hidden": true
   },
   "source": [
    "对于列表，Python 允许改变列表中的元素值："
   ]
  },
  {
   "cell_type": "code",
   "execution_count": 35,
   "id": "f82e8a10",
   "metadata": {
    "hidden": true
   },
   "outputs": [
    {
     "data": {
      "text/plain": [
       "[11, 2, 'Hello', 'World']"
      ]
     },
     "execution_count": 35,
     "metadata": {},
     "output_type": "execute_result"
    }
   ],
   "source": [
    "l[0] = 11\n",
    "l"
   ]
  },
  {
   "cell_type": "markdown",
   "id": "08174f82",
   "metadata": {
    "hidden": true
   },
   "source": [
    "也允许改变元素的数据类型："
   ]
  },
  {
   "cell_type": "code",
   "execution_count": 38,
   "id": "e4b6ea40",
   "metadata": {
    "hidden": true
   },
   "outputs": [
    {
     "data": {
      "text/plain": [
       "['wss', 2, 'Hello', 'World']"
      ]
     },
     "execution_count": 38,
     "metadata": {},
     "output_type": "execute_result"
    }
   ],
   "source": [
    "l[0] = 'wss'\n",
    "l"
   ]
  },
  {
   "cell_type": "markdown",
   "id": "5eca2c41",
   "metadata": {
    "heading_collapsed": true
   },
   "source": [
    "#### 追加操作"
   ]
  },
  {
   "cell_type": "markdown",
   "id": "c86355e9",
   "metadata": {
    "hidden": true
   },
   "source": [
    "列表尾部追加元素 `l.append(新元素)`："
   ]
  },
  {
   "cell_type": "code",
   "execution_count": 85,
   "id": "deb8e3c7",
   "metadata": {
    "ExecuteTime": {
     "end_time": "2024-01-22T07:52:13.872054Z",
     "start_time": "2024-01-22T07:52:13.869123Z"
    },
    "hidden": true
   },
   "outputs": [],
   "source": [
    "l.append(3)"
   ]
  },
  {
   "cell_type": "markdown",
   "id": "04bae76a",
   "metadata": {
    "heading_collapsed": true
   },
   "source": [
    "#### 插入操作\n",
    "\n",
    "插入元素 `l.insert(索引, 新元素)`："
   ]
  },
  {
   "cell_type": "code",
   "execution_count": 86,
   "id": "bea321c9",
   "metadata": {
    "ExecuteTime": {
     "end_time": "2024-01-22T07:52:19.406554Z",
     "start_time": "2024-01-22T07:52:19.400996Z"
    },
    "hidden": true
   },
   "outputs": [
    {
     "data": {
      "text/plain": [
       "[1, 2, 33, 'Hello', 'World', 3]"
      ]
     },
     "execution_count": 86,
     "metadata": {},
     "output_type": "execute_result"
    }
   ],
   "source": [
    "l.insert(2, 33)\n",
    "l"
   ]
  },
  {
   "cell_type": "markdown",
   "id": "f5df7a89",
   "metadata": {
    "hidden": true
   },
   "source": [
    "一次追加多个元素 `l.extend([新元素的集合])`："
   ]
  },
  {
   "cell_type": "code",
   "execution_count": 87,
   "id": "f902f019",
   "metadata": {
    "ExecuteTime": {
     "end_time": "2024-01-22T07:52:24.419241Z",
     "start_time": "2024-01-22T07:52:24.412808Z"
    },
    "hidden": true
   },
   "outputs": [
    {
     "data": {
      "text/plain": [
       "[1, 2, 33, 'Hello', 'World', 3, 7, 8, 9]"
      ]
     },
     "execution_count": 87,
     "metadata": {},
     "output_type": "execute_result"
    }
   ],
   "source": [
    "l.extend([7, 8, 9])\n",
    "l"
   ]
  },
  {
   "cell_type": "markdown",
   "id": "158b9aeb",
   "metadata": {
    "hidden": true
   },
   "source": [
    "一次追加多个元素 `l[len(l):] = [新元素的集合]`"
   ]
  },
  {
   "cell_type": "code",
   "execution_count": 88,
   "id": "542ffc7b",
   "metadata": {
    "ExecuteTime": {
     "end_time": "2024-01-22T07:52:37.629714Z",
     "start_time": "2024-01-22T07:52:37.623675Z"
    },
    "hidden": true
   },
   "outputs": [
    {
     "data": {
      "text/plain": [
       "[1, 2, 33, 'Hello', 'World', 3, 7, 8, 9, 15, 16, 17]"
      ]
     },
     "execution_count": 88,
     "metadata": {},
     "output_type": "execute_result"
    }
   ],
   "source": [
    "l[len(l):] = [15, 16, 17]\n",
    "l"
   ]
  },
  {
   "cell_type": "markdown",
   "id": "beebc837",
   "metadata": {
    "heading_collapsed": true
   },
   "source": [
    "#### 删除操作\n",
    "\n",
    "在 Python 中，以下 4 种方式可删除列表元素：\n",
    "1. Python 内置命令 del：`del l[0]`\n",
    "2. pop：`l.pop(0)`\n",
    "3. `l.remove(元素名)`\n",
    "4. `l.clear()` 清空"
   ]
  },
  {
   "cell_type": "markdown",
   "id": "cc3f1655",
   "metadata": {
    "hidden": true
   },
   "source": [
    "1.使用 Python 内置命令 del："
   ]
  },
  {
   "cell_type": "code",
   "execution_count": 89,
   "id": "50fc38ea",
   "metadata": {
    "ExecuteTime": {
     "end_time": "2024-01-22T07:58:51.453038Z",
     "start_time": "2024-01-22T07:58:51.449491Z"
    },
    "hidden": true
   },
   "outputs": [
    {
     "data": {
      "text/plain": [
       "[2, 33, 'Hello', 'World', 3, 7, 8, 9, 15, 16, 17]"
      ]
     },
     "execution_count": 89,
     "metadata": {},
     "output_type": "execute_result"
    }
   ],
   "source": [
    "del l[0]\n",
    "l"
   ]
  },
  {
   "cell_type": "markdown",
   "id": "04947d34",
   "metadata": {
    "ExecuteTime": {
     "end_time": "2024-01-22T07:59:30.021142Z",
     "start_time": "2024-01-22T07:59:30.017821Z"
    },
    "hidden": true
   },
   "source": [
    "2.使用 pop："
   ]
  },
  {
   "cell_type": "code",
   "execution_count": 91,
   "id": "5e967022",
   "metadata": {
    "ExecuteTime": {
     "end_time": "2024-01-22T07:59:38.305068Z",
     "start_time": "2024-01-22T07:59:38.296247Z"
    },
    "hidden": true
   },
   "outputs": [
    {
     "data": {
      "text/plain": [
       "[2, 'Hello', 'World', 3, 7, 8, 9, 15, 16, 17]"
      ]
     },
     "execution_count": 91,
     "metadata": {},
     "output_type": "execute_result"
    }
   ],
   "source": [
    "l.pop(1)\n",
    "l"
   ]
  },
  {
   "cell_type": "code",
   "execution_count": 93,
   "id": "0c6c61d7",
   "metadata": {
    "ExecuteTime": {
     "end_time": "2024-01-22T07:59:53.253759Z",
     "start_time": "2024-01-22T07:59:53.248379Z"
    },
    "hidden": true
   },
   "outputs": [
    {
     "data": {
      "text/plain": [
       "[2, 3, 7, 8, 9, 15, 16, 17]"
      ]
     },
     "execution_count": 93,
     "metadata": {},
     "output_type": "execute_result"
    }
   ],
   "source": [
    "l.pop(1)\n",
    "l"
   ]
  },
  {
   "cell_type": "markdown",
   "id": "4cceff31",
   "metadata": {
    "hidden": true
   },
   "source": [
    "3.使用 remove："
   ]
  },
  {
   "cell_type": "code",
   "execution_count": 95,
   "id": "f59ee2cb",
   "metadata": {
    "ExecuteTime": {
     "end_time": "2024-01-22T08:01:01.189904Z",
     "start_time": "2024-01-22T08:01:01.184219Z"
    },
    "hidden": true
   },
   "outputs": [
    {
     "data": {
      "text/plain": [
       "[3, 7, 8, 9, 15, 16, 17]"
      ]
     },
     "execution_count": 95,
     "metadata": {},
     "output_type": "execute_result"
    }
   ],
   "source": [
    "l.remove(2)\n",
    "l"
   ]
  },
  {
   "cell_type": "markdown",
   "id": "9b594780",
   "metadata": {
    "hidden": true
   },
   "source": [
    "4.使用 clear() 清空列表："
   ]
  },
  {
   "cell_type": "code",
   "execution_count": 96,
   "id": "c8e928b2",
   "metadata": {
    "ExecuteTime": {
     "end_time": "2024-01-22T08:01:32.432170Z",
     "start_time": "2024-01-22T08:01:32.422975Z"
    },
    "hidden": true
   },
   "outputs": [
    {
     "data": {
      "text/plain": [
       "[]"
      ]
     },
     "execution_count": 96,
     "metadata": {},
     "output_type": "execute_result"
    }
   ],
   "source": [
    "l.clear()\n",
    "l"
   ]
  },
  {
   "cell_type": "markdown",
   "id": "432664fe",
   "metadata": {},
   "source": [
    "#### 切片操作\n",
    "\n",
    "日常中取列表种的部分元素是非常常见的操作。切片是指对有序的集合中提取数据构成子集集合。"
   ]
  },
  {
   "cell_type": "markdown",
   "id": "61877efd",
   "metadata": {
    "ExecuteTime": {
     "end_time": "2024-01-22T08:11:46.640570Z",
     "start_time": "2024-01-22T08:11:46.632553Z"
    }
   },
   "source": [
    "##### 不使用切片方式\n",
    "\n",
    "比如我们有下面这样一个列表："
   ]
  },
  {
   "cell_type": "code",
   "execution_count": 99,
   "id": "9a5e7708",
   "metadata": {
    "ExecuteTime": {
     "end_time": "2024-01-22T08:11:55.467499Z",
     "start_time": "2024-01-22T08:11:55.462571Z"
    }
   },
   "outputs": [
    {
     "data": {
      "text/plain": [
       "[0, 1, 2, 3, 4, 5, 6, 7, 8, 9]"
      ]
     },
     "execution_count": 99,
     "metadata": {},
     "output_type": "execute_result"
    }
   ],
   "source": [
    "l = list(range(10))\n",
    "l"
   ]
  },
  {
   "cell_type": "markdown",
   "id": "d7880f76",
   "metadata": {},
   "source": [
    "我们需要取前 3 个元素："
   ]
  },
  {
   "cell_type": "code",
   "execution_count": 100,
   "id": "6807c3a8",
   "metadata": {
    "ExecuteTime": {
     "end_time": "2024-01-22T08:12:39.221898Z",
     "start_time": "2024-01-22T08:12:39.216178Z"
    }
   },
   "outputs": [
    {
     "data": {
      "text/plain": [
       "[0, 1, 2]"
      ]
     },
     "execution_count": 100,
     "metadata": {},
     "output_type": "execute_result"
    }
   ],
   "source": [
    "[l[0], l[1], l[2]]"
   ]
  },
  {
   "cell_type": "markdown",
   "id": "6dd9d749",
   "metadata": {},
   "source": [
    "如果我们需要取前 N 个元素呢？可使用循环来实现："
   ]
  },
  {
   "cell_type": "code",
   "execution_count": 101,
   "id": "dd3a0c68",
   "metadata": {
    "ExecuteTime": {
     "end_time": "2024-01-22T08:14:45.194994Z",
     "start_time": "2024-01-22T08:14:45.189435Z"
    }
   },
   "outputs": [
    {
     "data": {
      "text/plain": [
       "[0, 1, 2, 3, 4, 5, 6]"
      ]
     },
     "execution_count": 101,
     "metadata": {},
     "output_type": "execute_result"
    }
   ],
   "source": [
    "r = []\n",
    "n = 7\n",
    "for i in range(7):\n",
    "    r.append(i)\n",
    "\n",
    "r"
   ]
  },
  {
   "cell_type": "markdown",
   "id": "ae528cc5",
   "metadata": {
    "ExecuteTime": {
     "end_time": "2024-01-22T08:17:34.207908Z",
     "start_time": "2024-01-22T08:17:34.199168Z"
    }
   },
   "source": [
    "##### 简单切片 \n",
    "\n",
    "对于经常需要取指定索引范围内的操作，使用循环十分繁琐，所以 Python 提供了切片（splice）操作符来简化操作，以下是切片的语法：\n",
    "\n",
    "```python\n",
    "子集名 = 有序集合名[start: end: step]\n",
    "```\n",
    "\n",
    "而省略步长（step）的即为简单切片，它表示步长默认为 1，我们可以省略，简单切片语法如下：\n",
    "\n",
    "```python\n",
    "有序集合名[start:stop]\n",
    "```\n",
    "\n",
    "上面表示得到一个前闭后开区间范围内的元素，示例如下："
   ]
  },
  {
   "cell_type": "code",
   "execution_count": 103,
   "id": "c16f781c",
   "metadata": {
    "ExecuteTime": {
     "end_time": "2024-01-22T08:21:15.136486Z",
     "start_time": "2024-01-22T08:21:15.130699Z"
    }
   },
   "outputs": [
    {
     "data": {
      "text/plain": [
       "[0, 1, 2, 3, 4, 5, 6, 7, 8, 9, 10, 11, 12, 13, 14, 15, 16, 17, 18, 19, 20]"
      ]
     },
     "execution_count": 103,
     "metadata": {},
     "output_type": "execute_result"
    }
   ],
   "source": [
    "l = list(range(21))\n",
    "l"
   ]
  },
  {
   "cell_type": "markdown",
   "id": "e25b07fa",
   "metadata": {},
   "source": [
    "1.获取最后一个元素："
   ]
  },
  {
   "cell_type": "code",
   "execution_count": 105,
   "id": "e1a39317",
   "metadata": {
    "ExecuteTime": {
     "end_time": "2024-01-22T08:23:09.223159Z",
     "start_time": "2024-01-22T08:23:09.219538Z"
    }
   },
   "outputs": [
    {
     "data": {
      "text/plain": [
       "20"
      ]
     },
     "execution_count": 105,
     "metadata": {},
     "output_type": "execute_result"
    }
   ],
   "source": [
    "l[-1]"
   ]
  },
  {
   "cell_type": "markdown",
   "id": "da0490f9",
   "metadata": {},
   "source": [
    "2.获取所有元素（除最后一个）："
   ]
  },
  {
   "cell_type": "code",
   "execution_count": 106,
   "id": "1aa4e766",
   "metadata": {
    "ExecuteTime": {
     "end_time": "2024-01-22T08:23:12.968191Z",
     "start_time": "2024-01-22T08:23:12.962247Z"
    }
   },
   "outputs": [
    {
     "data": {
      "text/plain": [
       "[0, 1, 2, 3, 4, 5, 6, 7, 8, 9, 10, 11, 12, 13, 14, 15, 16, 17, 18, 19]"
      ]
     },
     "execution_count": 106,
     "metadata": {},
     "output_type": "execute_result"
    }
   ],
   "source": [
    "l[:-1]"
   ]
  },
  {
   "cell_type": "markdown",
   "id": "19db4837",
   "metadata": {},
   "source": [
    "3.对第一个至最后一个元素倒序后取出："
   ]
  },
  {
   "cell_type": "code",
   "execution_count": 107,
   "id": "6c4f4c70",
   "metadata": {
    "ExecuteTime": {
     "end_time": "2024-01-22T08:23:26.030664Z",
     "start_time": "2024-01-22T08:23:26.023778Z"
    }
   },
   "outputs": [
    {
     "data": {
      "text/plain": [
       "[20, 19, 18, 17, 16, 15, 14, 13, 12, 11, 10, 9, 8, 7, 6, 5, 4, 3, 2, 1, 0]"
      ]
     },
     "execution_count": 107,
     "metadata": {},
     "output_type": "execute_result"
    }
   ],
   "source": [
    "l[::-1]"
   ]
  },
  {
   "cell_type": "markdown",
   "id": "dd31721e",
   "metadata": {},
   "source": [
    "4.对第一个至第 n 个元素倒序后取出 `l[n::-1]`："
   ]
  },
  {
   "cell_type": "code",
   "execution_count": 108,
   "id": "112b73ff",
   "metadata": {
    "ExecuteTime": {
     "end_time": "2024-01-22T08:23:46.293245Z",
     "start_time": "2024-01-22T08:23:46.286975Z"
    }
   },
   "outputs": [
    {
     "data": {
      "text/plain": [
       "[10, 9, 8, 7, 6, 5, 4, 3, 2, 1, 0]"
      ]
     },
     "execution_count": 108,
     "metadata": {},
     "output_type": "execute_result"
    }
   ],
   "source": [
    "l[10::-1]"
   ]
  },
  {
   "cell_type": "code",
   "execution_count": 57,
   "id": "ac177b82",
   "metadata": {},
   "outputs": [
    {
     "data": {
      "text/plain": [
       "[5, 6, 7, 8]"
      ]
     },
     "execution_count": 57,
     "metadata": {},
     "output_type": "execute_result"
    }
   ],
   "source": [
    "l[5:9]"
   ]
  },
  {
   "cell_type": "code",
   "execution_count": 58,
   "id": "687ffecf",
   "metadata": {},
   "outputs": [
    {
     "data": {
      "text/plain": [
       "[5, 6, 7, 8]"
      ]
     },
     "execution_count": 58,
     "metadata": {},
     "output_type": "execute_result"
    }
   ],
   "source": [
    "l[5:-1]"
   ]
  },
  {
   "cell_type": "code",
   "execution_count": 59,
   "id": "8e02a78a",
   "metadata": {},
   "outputs": [
    {
     "data": {
      "text/plain": [
       "[5, 6, 7, 8]"
      ]
     },
     "execution_count": 59,
     "metadata": {},
     "output_type": "execute_result"
    }
   ],
   "source": [
    "l[-5: 9]"
   ]
  },
  {
   "cell_type": "code",
   "execution_count": 60,
   "id": "92fdc24a",
   "metadata": {},
   "outputs": [
    {
     "data": {
      "text/plain": [
       "[5, 6, 7, 8]"
      ]
     },
     "execution_count": 60,
     "metadata": {},
     "output_type": "execute_result"
    }
   ],
   "source": [
    "l[-5: -1]"
   ]
  },
  {
   "cell_type": "code",
   "execution_count": null,
   "id": "d80907ba",
   "metadata": {},
   "outputs": [],
   "source": []
  },
  {
   "cell_type": "code",
   "execution_count": 49,
   "id": "1ecb8012",
   "metadata": {},
   "outputs": [],
   "source": [
    "l = [1, 2, 3, 4, 5, 6, 7, 8]"
   ]
  },
  {
   "cell_type": "code",
   "execution_count": 50,
   "id": "968cc297",
   "metadata": {},
   "outputs": [
    {
     "data": {
      "text/plain": [
       "[1, 2, 3, 4, 5]"
      ]
     },
     "execution_count": 50,
     "metadata": {},
     "output_type": "execute_result"
    }
   ],
   "source": [
    "l[:5]"
   ]
  },
  {
   "cell_type": "code",
   "execution_count": 51,
   "id": "11a40c4a",
   "metadata": {},
   "outputs": [
    {
     "data": {
      "text/plain": [
       "[1, 2, 3]"
      ]
     },
     "execution_count": 51,
     "metadata": {},
     "output_type": "execute_result"
    }
   ],
   "source": [
    "l[:-5]"
   ]
  },
  {
   "cell_type": "markdown",
   "id": "8bb9182b",
   "metadata": {},
   "source": [
    "### 元组（tuple）"
   ]
  },
  {
   "cell_type": "markdown",
   "id": "6f843015",
   "metadata": {},
   "source": [
    "tuple 也是一个可以可以放置任意数据类型的有序集合。这一点和绝大部分编程语言并不一样。\n",
    "想对于列表，**元组是静态的**，长度大小固定，无法增加、删减或者改变元素（**immutable**）。"
   ]
  },
  {
   "cell_type": "code",
   "execution_count": 42,
   "id": "b7090449",
   "metadata": {},
   "outputs": [
    {
     "data": {
      "text/plain": [
       "(1, 2, 'Hello', 'World')"
      ]
     },
     "execution_count": 42,
     "metadata": {},
     "output_type": "execute_result"
    }
   ],
   "source": [
    "tup = (1, 2, 'Hello', 'World')\n",
    "tup"
   ]
  },
  {
   "cell_type": "code",
   "execution_count": 43,
   "id": "075d58ba",
   "metadata": {},
   "outputs": [
    {
     "data": {
      "text/plain": [
       "'World'"
      ]
     },
     "execution_count": 43,
     "metadata": {},
     "output_type": "execute_result"
    }
   ],
   "source": [
    "tup[3]"
   ]
  },
  {
   "cell_type": "markdown",
   "id": "13b6f610",
   "metadata": {},
   "source": [
    "创建新的元组，并一次填充原元组的值："
   ]
  },
  {
   "cell_type": "code",
   "execution_count": 45,
   "id": "fec5c2e5",
   "metadata": {},
   "outputs": [
    {
     "data": {
      "text/plain": [
       "(1, 2, 'Hello', 'World', 5)"
      ]
     },
     "execution_count": 45,
     "metadata": {},
     "output_type": "execute_result"
    }
   ],
   "source": [
    "new_tup = tup + (5, )\n",
    "new_tup"
   ]
  },
  {
   "cell_type": "markdown",
   "id": "5ad151a9",
   "metadata": {},
   "source": [
    "和列表一样，元组也支持复数索引， -1 表示最后 1 个元素："
   ]
  },
  {
   "cell_type": "code",
   "execution_count": 47,
   "id": "68eae08a",
   "metadata": {},
   "outputs": [
    {
     "data": {
      "text/plain": [
       "5"
      ]
     },
     "execution_count": 47,
     "metadata": {},
     "output_type": "execute_result"
    }
   ],
   "source": [
    "new_tup[-1]"
   ]
  },
  {
   "cell_type": "code",
   "execution_count": 48,
   "id": "0063702a",
   "metadata": {
    "scrolled": true
   },
   "outputs": [
    {
     "data": {
      "text/plain": [
       "'World'"
      ]
     },
     "execution_count": 48,
     "metadata": {},
     "output_type": "execute_result"
    }
   ],
   "source": [
    "new_tup[-2]"
   ]
  },
  {
   "cell_type": "code",
   "execution_count": 80,
   "id": "f838257b",
   "metadata": {},
   "outputs": [
    {
     "data": {
      "text/plain": [
       "['False',\n",
       " 'None',\n",
       " 'True',\n",
       " 'and',\n",
       " 'as',\n",
       " 'assert',\n",
       " 'async',\n",
       " 'await',\n",
       " 'break',\n",
       " 'class',\n",
       " 'continue',\n",
       " 'def',\n",
       " 'del',\n",
       " 'elif',\n",
       " 'else',\n",
       " 'except',\n",
       " 'finally',\n",
       " 'for',\n",
       " 'from',\n",
       " 'global',\n",
       " 'if',\n",
       " 'import',\n",
       " 'in',\n",
       " 'is',\n",
       " 'lambda',\n",
       " 'nonlocal',\n",
       " 'not',\n",
       " 'or',\n",
       " 'pass',\n",
       " 'raise',\n",
       " 'return',\n",
       " 'try',\n",
       " 'while',\n",
       " 'with',\n",
       " 'yield']"
      ]
     },
     "execution_count": 80,
     "metadata": {},
     "output_type": "execute_result"
    }
   ],
   "source": [
    "import keyword\n",
    "keyword.kwlist"
   ]
  },
  {
   "cell_type": "code",
   "execution_count": null,
   "id": "3df6598c",
   "metadata": {},
   "outputs": [],
   "source": []
  }
 ],
 "metadata": {
  "kernelspec": {
   "display_name": "Python 3 (ipykernel)",
   "language": "python",
   "name": "python3"
  },
  "language_info": {
   "codemirror_mode": {
    "name": "ipython",
    "version": 3
   },
   "file_extension": ".py",
   "mimetype": "text/x-python",
   "name": "python",
   "nbconvert_exporter": "python",
   "pygments_lexer": "ipython3",
   "version": "3.10.12"
  },
  "toc": {
   "base_numbering": 1,
   "nav_menu": {},
   "number_sections": true,
   "sideBar": true,
   "skip_h1_title": false,
   "title_cell": "Table of Contents",
   "title_sidebar": "Contents",
   "toc_cell": false,
   "toc_position": {
    "height": "calc(100% - 180px)",
    "left": "10px",
    "top": "150px",
    "width": "261.667px"
   },
   "toc_section_display": true,
   "toc_window_display": true
  },
  "varInspector": {
   "cols": {
    "lenName": 16,
    "lenType": 16,
    "lenVar": 40
   },
   "kernels_config": {
    "python": {
     "delete_cmd_postfix": "",
     "delete_cmd_prefix": "del ",
     "library": "var_list.py",
     "varRefreshCmd": "print(var_dic_list())"
    },
    "r": {
     "delete_cmd_postfix": ") ",
     "delete_cmd_prefix": "rm(",
     "library": "var_list.r",
     "varRefreshCmd": "cat(var_dic_list()) "
    }
   },
   "position": {
    "height": "228.854px",
    "left": "1073.33px",
    "right": "20px",
    "top": "120px",
    "width": "346.667px"
   },
   "types_to_exclude": [
    "module",
    "function",
    "builtin_function_or_method",
    "instance",
    "_Feature"
   ],
   "window_display": false
  }
 },
 "nbformat": 4,
 "nbformat_minor": 5
}
